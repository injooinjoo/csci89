{
 "cells": [
  {
   "cell_type": "markdown",
   "metadata": {},
   "source": [
    "# CSCI S-89B — Assignment 3\n",
    "Student: InJoo Kim\n"
   ]
  },
  {
   "cell_type": "markdown",
   "metadata": {},
   "source": [
    "## Problem 1 (25 points)\n",
    "\n",
    "### (a) Load and preprocess the text (tokenization, stemming, lemmatization)\n",
    "Methods: NLTK `word_tokenize`, `PorterStemmer`, `WordNetLemmatizer(pos='v')`. If SpaCy is available, `en_core_web_sm` lemmatization is additionally shown.\n"
   ]
  },
  {
   "cell_type": "code",
   "execution_count": 54,
   "metadata": {},
   "outputs": [
    {
     "name": "stdout",
     "output_type": "stream",
     "text": [
      "NLTK tokens (first 15): ['Urban', 'delivery', 'robots', 'operate', 'on', 'sidewalks', 'where', 'pedestrians', ',', 'pets', ',', 'and', 'bicycles', 'share', 'space']\n",
      "NLTK stems (first 15): ['urban', 'deliveri', 'robot', 'oper', 'on', 'sidewalk', 'where', 'pedestrian', ',', 'pet', ',', 'and', 'bicycl', 'share', 'space']\n",
      "NLTK lemmas (verb POS, first 15): ['Urban', 'delivery', 'robots', 'operate', 'on', 'sidewalks', 'where', 'pedestrians', ',', 'pet', ',', 'and', 'bicycle', 'share', 'space']\n",
      "SpaCy lemmas (first 15): ['urban', 'delivery', 'robot', 'operate', 'on', 'sidewalk', 'where', 'pedestrian', ',', 'pet', ',', 'and', 'bicycle', 'share', 'space']\n"
     ]
    }
   ],
   "source": [
    "# Problem 1-(a)\n",
    "import nltk, sys\n",
    "from nltk.tokenize import word_tokenize\n",
    "from nltk.stem import PorterStemmer, WordNetLemmatizer\n",
    "nltk.download('punkt', quiet=True); nltk.download('wordnet', quiet=True)\n",
    "\n",
    "text = (\n",
    "    \"Urban delivery robots operate on sidewalks where pedestrians, pets, and bicycles share space. \"\n",
    "    \"During peak hours, a robot must plan short detours, yield at crossings, and recover quickly after stops. \"\n",
    "    \"Well-designed policies improve safety and keep travel times predictable for both people and machines.\"\n",
    ")\n",
    "\n",
    "# NLTK\n",
    "tokens_nltk = word_tokenize(text)\n",
    "porter = PorterStemmer()\n",
    "stems_nltk = [porter.stem(w) for w in tokens_nltk]\n",
    "wnl = WordNetLemmatizer()\n",
    "lemmas_nltk_v = [wnl.lemmatize(w, pos='v') for w in tokens_nltk]\n",
    "\n",
    "# SpaCy\n",
    "lemmas_spacy = None\n",
    "try:\n",
    "    import spacy\n",
    "    nlp = spacy.load(\"en_core_web_sm\")\n",
    "    lemmas_spacy = [t.lemma_ for t in nlp(text)]\n",
    "except Exception:\n",
    "    lemmas_spacy = None\n",
    "\n",
    "print(\"NLTK tokens (first 15):\", tokens_nltk[:15])\n",
    "print(\"NLTK stems (first 15):\", stems_nltk[:15])\n",
    "print(\"NLTK lemmas (verb POS, first 15):\", lemmas_nltk_v[:15])\n",
    "print(\"SpaCy lemmas (first 15):\", (lemmas_spacy[:15] if lemmas_spacy else \"N/A\"))\n"
   ]
  },
  {
   "cell_type": "markdown",
   "metadata": {},
   "source": [
    "### (b) Comparison\n",
    "NLTK stemming is rule-based and may yield non-words (*operate → oper*, *bicycles → bicycl*), while lemmatization returns base forms given POS (*bicycles → bicycle*). Tokenization differs slightly in punctuation handling. SpaCy infers POS automatically and typically produces cleaner lemmas without manual POS flags.  \n",
    "\n",
    "For example, in our sample text:  \n",
    "- NLTK Porter stemmed *bicycles → bicycl* (non-word).  \n",
    "- NLTK WordNet lemmatizer returned *bicycles → bicycle*.  \n",
    "- SpaCy also returned *bicycle*.  \n",
    "\n",
    "This illustrates the difference in linguistic accuracy.\n",
    "\n",
    "\n",
    "### (c) Importance\n",
    "Tokenization defines model inputs. Stemming/lemmatization reduce sparsity and improve generalization in classical pipelines (e.g., BoW, n-grams). Choice depends on tolerance for non-words (stemming) vs. linguistic correctness (lemmatization).\n"
   ]
  },
  {
   "cell_type": "markdown",
   "metadata": {},
   "source": [
    "## Problem 2 (25 points)\n",
    "\n",
    "### (a) Tokenize and lemmatize large and small texts\n",
    "Preprocessing: `word_tokenize → lowercase → cleanup → WordNetLemmatizer(pos='v')`.\n"
   ]
  },
  {
   "cell_type": "code",
   "execution_count": 55,
   "metadata": {},
   "outputs": [
    {
     "name": "stdout",
     "output_type": "stream",
     "text": [
      "Small text tokens (≤25): ['during', 'the', 'spring', 'launch', 'engineer', 'orchestrate', 'pilot', 'rollouts', 'and', 'shadow', 'deployments', 'they', 'stresstested', 'edge', 'condition', 'calibrate', 'sensors', 'under', 'hailstorms', 'and', 'document', 'anomalies', 'that', 'surface', 'only']\n",
      "Large text size (tokens): 3180\n"
     ]
    }
   ],
   "source": [
    "# Problem 2-(a)\n",
    "import re\n",
    "from nltk.tokenize import word_tokenize\n",
    "from nltk.stem import WordNetLemmatizer\n",
    "\n",
    "# Base paragraph (original). \n",
    "big_base = (\n",
    "    \"Teams translate raw logs into stable tables that reflect growth, retention, reliability, and cost. \"\n",
    "    \"Proposed changes ship to small traffic, expand if guardrails hold, and roll back on anomalies. \"\n",
    "    \"Quantitative dashboards are paired with qualitative research to surface friction and clarify priorities. \"\n",
    "    \"Data hygiene—versioned events, documented thresholds, and planned schema migrations—prevents metric drift.\"\n",
    ")\n",
    "# Repeat to ensure large vocabulary; adjust the factor if needed.\n",
    "big_text = \" \".join([big_base for _ in range(60)]) \n",
    "\n",
    "small_text = (\n",
    "    \"During the spring launch, engineers orchestrated pilot rollouts and shadow deployments. \"\n",
    "    \"They stress-tested edge conditions, calibrated sensors under hailstorms, and documented anomalies \"\n",
    "    \"that surfaced only on rural backroads.\"\n",
    ")\n",
    "\n",
    "def normalize_lemmatize(s: str):\n",
    "    toks = [t.lower() for t in word_tokenize(s)]\n",
    "    toks = [re.sub(r\"[^a-z0-9']\", \"\", t) for t in toks]\n",
    "    toks = [t for t in toks if t]\n",
    "    wnl = WordNetLemmatizer()\n",
    "    return [wnl.lemmatize(t, pos='v') for t in toks]\n",
    "\n",
    "big_tokens = normalize_lemmatize(big_text)\n",
    "small_tokens = normalize_lemmatize(small_text)\n",
    "\n",
    "print(\"Small text tokens (≤25):\", small_tokens[:25])\n",
    "print(\"Large text size (tokens):\", len(big_tokens))\n"
   ]
  },
  {
   "cell_type": "markdown",
   "metadata": {},
   "source": [
    "### (b) Vocabulary from large text and BoW for small text\n"
   ]
  },
  {
   "cell_type": "code",
   "execution_count": 56,
   "metadata": {},
   "outputs": [
    {
     "name": "stdout",
     "output_type": "stream",
     "text": [
      "Vocabulary size: 49\n",
      "BoW for small text (known words only): {'and': 2, 'document': 1, 'anomalies': 1, 'that': 1, 'surface': 1, 'on': 1}\n"
     ]
    }
   ],
   "source": [
    "# Problem 2-(b)\n",
    "vocab = set(big_tokens)\n",
    "\n",
    "bow = {}\n",
    "for w in small_tokens:\n",
    "    if w in vocab:\n",
    "        bow[w] = bow.get(w, 0) + 1\n",
    "\n",
    "print(\"Vocabulary size:\", len(vocab))\n",
    "print(\"BoW for small text (known words only):\", bow)\n"
   ]
  },
  {
   "cell_type": "markdown",
   "metadata": {},
   "source": [
    "### (c) Count new words and identify their key\n"
   ]
  },
  {
   "cell_type": "code",
   "execution_count": 57,
   "metadata": {},
   "outputs": [
    {
     "name": "stdout",
     "output_type": "stream",
     "text": [
      "Number of NEW words in small text: 21\n",
      "Sample NEW words: ['backroads', 'calibrate', 'condition', 'deployments', 'during', 'edge', 'engineer', 'hailstorms', 'launch', 'only']\n",
      "Key for new words: None (no UNK used)\n"
     ]
    }
   ],
   "source": [
    "# Problem 2-(c)\n",
    "new_words = sorted(set(small_tokens) - vocab)\n",
    "print(\"Number of NEW words in small text:\", len(new_words))\n",
    "print(\"Sample NEW words:\", new_words[:10])\n",
    "print(\"Key for new words:\", \"None (no UNK used)\")\n"
   ]
  },
  {
   "cell_type": "markdown",
   "metadata": {},
   "source": [
    "**Answer:**  \n",
    "The small text contained **21 new words** that did not appear in the large-text vocabulary.  \n",
    "Examples include *hailstorms*, *backroads*, and *deployments*.  \n",
    "Since this Bag-of-Words implementation does not define an UNK token, **no key exists for new words**, and they are not included in the dictionary.\n"
   ]
  },
  {
   "cell_type": "markdown",
   "metadata": {},
   "source": [
    "## Problem 3 (15 points)\n",
    "\n",
    "We use the given CNN feature extractor; we (i) plot train/val accuracy, (ii) report **test accuracy at the optimal epoch**, and (iii) explain shapes/parameters.\n"
   ]
  },
  {
   "cell_type": "code",
   "execution_count": 58,
   "metadata": {},
   "outputs": [],
   "source": [
    "# Problem 3 — model\n",
    "import tensorflow as tf\n",
    "from tensorflow import keras\n",
    "from tensorflow.keras import layers, models\n",
    "import matplotlib.pyplot as plt\n",
    "\n",
    "(x_train, y_train), (x_test, y_test) = keras.datasets.mnist.load_data()\n",
    "x_train = (x_train.astype(\"float32\")/255.0)[..., None]\n",
    "x_test  = (x_test.astype(\"float32\") /255.0)[..., None]\n",
    "\n",
    "def build_model():\n",
    "    m = models.Sequential()\n",
    "    m.add(layers.Conv2D(32, (3,3), activation='relu', input_shape=(28,28,1)))  # -> 26x26x32\n",
    "    m.add(layers.MaxPooling2D((2,2)))                                          # -> 13x13x32\n",
    "    m.add(layers.Conv2D(64, (3,3), activation='relu'))                         # -> 11x11x64\n",
    "    m.add(layers.MaxPooling2D((2,2)))                                          # -> 5x5x64\n",
    "    m.add(layers.Conv2D(64, (3,3), activation='relu'))                         # -> 3x3x64\n",
    "    m.add(layers.Flatten())\n",
    "    m.add(layers.Dense(64, activation='relu'))\n",
    "    m.add(layers.Dense(10, activation='softmax'))\n",
    "    m.compile(optimizer='adam',\n",
    "              loss='sparse_categorical_crossentropy',\n",
    "              metrics=['accuracy'])\n",
    "    return m\n",
    "\n",
    "model = build_model()\n"
   ]
  },
  {
   "cell_type": "markdown",
   "metadata": {},
   "source": [
    "### (a) Training vs validation accuracy; select optimal epoch by validation accuracy\n"
   ]
  },
  {
   "cell_type": "code",
   "execution_count": 59,
   "metadata": {},
   "outputs": [
    {
     "data": {
      "image/png": "[encoded data removed]",
      "text/plain": [
       "<Figure size 640x480 with 1 Axes>"
      ]
     },
     "metadata": {},
     "output_type": "display_data"
    },
    {
     "name": "stdout",
     "output_type": "stream",
     "text": [
      "Best epoch (by validation accuracy): 10\n"
     ]
    }
   ],
   "source": [
    "history = model.fit(\n",
    "    x_train, y_train,\n",
    "    epochs=12, batch_size=128,\n",
    "    validation_split=0.1,\n",
    "    verbose=0\n",
    ")\n",
    "\n",
    "val_acc = history.history['val_accuracy']\n",
    "best_epoch = int(max(range(len(val_acc)), key=lambda i: val_acc[i]) + 1)\n",
    "\n",
    "plt.figure()\n",
    "plt.plot(history.history['accuracy'], label='train')\n",
    "plt.plot(history.history['val_accuracy'], label='val')\n",
    "plt.axvline(best_epoch-1, linestyle='--', label=f'best={best_epoch}')\n",
    "plt.xlabel('Epoch'); plt.ylabel('Accuracy'); plt.legend()\n",
    "plt.title('MNIST — Training vs Validation Accuracy')\n",
    "plt.show()\n",
    "\n",
    "print(\"Best epoch (by validation accuracy):\", best_epoch)\n"
   ]
  },
  {
   "cell_type": "markdown",
   "metadata": {},
   "source": [
    "### (b) Test accuracy at the optimal epoch; definition; classification of 10,000 images\n",
    "- **Definition:** Test accuracy = proportion of correct predictions on the held-out test set (unseen during training/validation).  \n",
    "- **Classification of 10,000 images:** Each 28×28 image passes once through the CNN; the final softmax produces 10 probabilities; `argmax` selects the predicted digit; accuracy compares predictions with labels across all 10,000 samples.  \n",
    "\n",
    "The model was retrained for exactly **10 epochs** (the optimal value determined by validation accuracy).  \n",
    "The resulting test accuracy was **99.02%**, meaning about **9,902 out of 10,000** handwritten digits were correctly classified.\n"
   ]
  },
  {
   "cell_type": "code",
   "execution_count": 60,
   "metadata": {},
   "outputs": [
    {
     "name": "stdout",
     "output_type": "stream",
     "text": [
      "Test accuracy @ optimal epoch (10): 0.9902\n"
     ]
    }
   ],
   "source": [
    "# Retrain exactly to the optimal epoch (to satisfy \"trained with the optimal number of epochs\")\n",
    "opt_model = build_model()\n",
    "opt_history = opt_model.fit(\n",
    "    x_train, y_train,\n",
    "    epochs=best_epoch, batch_size=128,\n",
    "    validation_split=0.1,\n",
    "    verbose=0\n",
    ")\n",
    "test_loss, test_acc = opt_model.evaluate(x_test, y_test, verbose=0)\n",
    "print(f\"Test accuracy @ optimal epoch ({best_epoch}): {test_acc:.4f}\")\n"
   ]
  },
  {
   "cell_type": "markdown",
   "metadata": {},
   "source": [
    "### (c) Why Conv2D output = 26 × 26 × 32\n",
    "Input 28×28×1, kernel 3×3, padding='valid' → spatial size 28−3+1=26; 32 filters → depth 32; result **26×26×32**.\n",
    "\n",
    "### (d) Why Conv2D parameters = 320\n",
    "Per filter: 3×3×1 weights + 1 bias = 10; with 32 filters → **320** parameters.\n"
   ]
  },
  {
   "cell_type": "code",
   "execution_count": 62,
   "metadata": {},
   "outputs": [
    {
     "name": "stdout",
     "output_type": "stream",
     "text": [
      "Kernel shape: (3, 3, 1, 32)\n",
      "Bias length: 32\n",
      "Parameter count: 320\n"
     ]
    }
   ],
   "source": [
    "# Quick check of the first conv layer\n",
    "first = opt_model.layers[0]\n",
    "print(\"Kernel shape:\", first.kernel.shape)    # (3, 3, 1, 32)\n",
    "print(\"Bias length:\", len(first.bias.numpy()))# 32\n",
    "print(\"Parameter count:\", first.count_params()) # 320\n"
   ]
  }
 ],
 "metadata": {
  "kernelspec": {
   "display_name": "venv",
   "language": "python",
   "name": "python3"
  },
  "language_info": {
   "codemirror_mode": {
    "name": "ipython",
    "version": 3
   },
   "file_extension": ".py",
   "mimetype": "text/x-python",
   "name": "python",
   "nbconvert_exporter": "python",
   "pygments_lexer": "ipython3",
   "version": "3.10.11"
  }
 },
 "nbformat": 4,
 "nbformat_minor": 4
}
